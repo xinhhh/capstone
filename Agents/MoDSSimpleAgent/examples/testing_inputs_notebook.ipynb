{
 "cells": [
  {
   "cell_type": "code",
   "execution_count": null,
   "id": "169463f5",
   "metadata": {},
   "outputs": [],
   "source": [
    "import requests\n",
    "import json\n",
    "import urllib"
   ]
  },
  {
   "cell_type": "code",
   "execution_count": null,
   "id": "e9976c95",
   "metadata": {},
   "outputs": [],
   "source": [
    "file_name = \"HDMR.json\""
   ]
  },
  {
   "cell_type": "code",
   "execution_count": null,
   "id": "82df058e",
   "metadata": {},
   "outputs": [],
   "source": [
    "json_url = \"\"\n",
    "with open(file_name) as json_file:\n",
    "    json_data = json.load(json_file)\n",
    "    json_string = json.dumps(json_data).replace(\" \",\"\")\n",
    "    json_url = urllib.parse.quote_plus(json_string)"
   ]
  },
  {
   "cell_type": "code",
   "execution_count": null,
   "id": "dd100fca",
   "metadata": {},
   "outputs": [],
   "source": [
    "base_url = \"http://host.docker.internal:58085/\"\n",
    "request_url = \"request?query=\"\n",
    "ouput_url = \"output/\" + request_url"
   ]
  },
  {
   "cell_type": "code",
   "execution_count": null,
   "id": "e0e03316",
   "metadata": {},
   "outputs": [],
   "source": [
    "submission_url = base_url + request_url + json_url\n",
    "r = requests.get(submission_url)"
   ]
  },
  {
   "cell_type": "code",
   "execution_count": null,
   "id": "f75e547a",
   "metadata": {},
   "outputs": [],
   "source": []
  }
 ],
 "metadata": {
  "kernelspec": {
   "display_name": "Python 3 (ipykernel)",
   "language": "python",
   "name": "python3"
  },
  "language_info": {
   "codemirror_mode": {
    "name": "ipython",
    "version": 3
   },
   "file_extension": ".py",
   "mimetype": "text/x-python",
   "name": "python",
   "nbconvert_exporter": "python",
   "pygments_lexer": "ipython3",
   "version": "3.9.5"
  }
 },
 "nbformat": 4,
 "nbformat_minor": 5
}
